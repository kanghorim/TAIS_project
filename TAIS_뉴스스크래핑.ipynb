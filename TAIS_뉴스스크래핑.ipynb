{
 "cells": [
  {
   "cell_type": "code",
   "execution_count": 1,
   "id": "73e209d2",
   "metadata": {},
   "outputs": [
    {
     "name": "stdout",
     "output_type": "stream",
     "text": [
      "검색 키워드를 입력하세요 : 자동차\n",
      "총 필요한 뉴스기사 수를 입력해주세요(숫자만 입력) : 5\n",
      "\n",
      "크롤링 중...\n",
      "크롤링 완료\n",
      "데이터프레임 변환\n",
      "엑셀 저장 완료 | 경로 : C:\\Users\\B-07\\네이버뉴스_자동차_2022-03-07_15시55분.xlsx\n"
     ]
    }
   ],
   "source": [
    "import requests\n",
    "from pandas import DataFrame\n",
    "from bs4 import BeautifulSoup\n",
    "import re\n",
    "from datetime import datetime\n",
    "import os\n",
    "\n",
    "date = str(datetime.now())\n",
    "date = date[:date.rfind(':')].replace(' ', '_')\n",
    "date = date.replace(':','시') + '분'\n",
    "\n",
    "\n",
    "\n",
    "query = input('검색 키워드를 입력하세요 : ')\n",
    "news_num = int(input('총 필요한 뉴스기사 수를 입력해주세요(숫자만 입력) : '))\n",
    "query = query.replace(' ', '+')\n",
    "\n",
    "\n",
    "news_url = 'https://search.naver.com/search.naver?where=news&sm=tab_jum&query={}'\n",
    "\n",
    "req = requests.get(news_url.format(query))\n",
    "soup = BeautifulSoup(req.text, 'html.parser')\n",
    "\n",
    "\n",
    "news_dict = {}\n",
    "idx = 0\n",
    "cur_page = 1\n",
    "\n",
    "print()\n",
    "print('크롤링 중...')\n",
    "\n",
    "while idx < news_num:\n",
    "### 네이버 뉴스 웹페이지 구성이 바뀌어 태그명, class 속성 값 등을 수정함(20210126) ###\n",
    "    \n",
    "    table = soup.find('ul',{'class' : 'list_news'})\n",
    "    li_list = table.find_all('li', {'id': re.compile('sp_nws.*')})\n",
    "    area_list = [li.find('div', {'class' : 'news_area'}) for li in li_list]\n",
    "    a_list = [area.find('a', {'class' : 'news_tit'}) for area in area_list]\n",
    "    \n",
    "    for n in a_list[:min(len(a_list), news_num-idx)]:\n",
    "        news_dict[idx] = {'title' : n.get('title'),\n",
    "                          'url' : n.get('href') }\n",
    "        idx += 1\n",
    "\n",
    "    cur_page += 1\n",
    "\n",
    "    pages = soup.find('div', {'class' : 'sc_page_inner'})\n",
    "    next_page_url = [p for p in pages.find_all('a') if p.text == str(cur_page)][0].get('href')\n",
    "    \n",
    "    req = requests.get('https://search.naver.com/search.naver' + next_page_url)\n",
    "    soup = BeautifulSoup(req.text, 'html.parser')\n",
    "\n",
    "print('크롤링 완료')\n",
    "\n",
    "print('데이터프레임 변환')\n",
    "news_df = DataFrame(news_dict).T\n",
    "\n",
    "folder_path = os.getcwd()\n",
    "xlsx_file_name = '네이버뉴스_{}_{}.xlsx'.format(query, date)\n",
    "\n",
    "news_df.to_excel(xlsx_file_name)\n",
    "\n",
    "print('엑셀 저장 완료 | 경로 : {}\\\\{}'.format(folder_path, xlsx_file_name))\n",
    "os.startfile(folder_path)"
   ]
  },
  {
   "cell_type": "code",
   "execution_count": 2,
   "id": "8b603db0",
   "metadata": {},
   "outputs": [],
   "source": [
    "import requests\n",
    "from bs4 import BeautifulSoup\n",
    "import time"
   ]
  },
  {
   "cell_type": "code",
   "execution_count": 5,
   "id": "2ac24af1",
   "metadata": {},
   "outputs": [],
   "source": [
    "url = 'https://search.naver.com/search.naver?where=news&query=%EC%9E%90%EB%8F%99%EC%B0%A8%20%EC%82%AC%EA%B3%A0&sm=tab_opt&sort=0&photo=0&field=0&pd=3&ds=2021.03.01&de=2022.03.07&docid=&related=0&mynews=0&office_type=0&office_section_code=0&news_office_checked=&nso=so%3Ar%2Cp%3Afrom20210301to20220307&is_sug_officeid=0'\n",
    "headers = {'user-agent':'Mozilla/5.0 (Windows NT 10.0; Win64; x64) AppleWebKit/537.36 (KHTML, like Gecko) Chrome/88.0.4324.150 Safari/537.36',\n",
    "          'accept':'text/html,application/xhtml+xml,application/xml;q=0.9,image/avif,image/webp,image/apng,*/*;q=0.8,application/signed-exchange;v=b3;q=0.9'}\n",
    "response = requests.get(url, headers=headers)\n",
    "soup = BeautifulSoup(response.text, 'lxml')"
   ]
  },
  {
   "cell_type": "code",
   "execution_count": 6,
   "id": "652ba8b2",
   "metadata": {},
   "outputs": [
    {
     "data": {
      "text/plain": [
       "[<a class=\"news_tit\" href=\"http://www.newsis.com/view/?id=NISX20220306_0001783567&amp;cID=13001&amp;pID=13000\" onclick=\"return goOtherCR(this, 'a=nws*h.tit&amp;r=1&amp;i=88000127_000000000000000011046240&amp;g=003.0011046240&amp;u='+urlencode(this.href));\" target=\"_blank\" title=\"사흘만에 또…현대제철, 20대 근로자 사망 사고\">사흘만에 또…현대제철, 20대 근로자 사망 <mark>사고</mark></a>,\n",
       " <a class=\"news_tit\" href=\"http://www.segye.com/content/html/2022/03/07/20220307507304.html?OutUrl=naver\" onclick=\"return goOtherCR(this, 'a=nws*h.tit&amp;r=5&amp;i=880000D2_000000000000000003673665&amp;g=022.0003673665&amp;u='+urlencode(this.href));\" target=\"_blank\" title=\"잇단 근로자 사망사고… 고용부·경찰, 현대제철 등 4곳 압수수색\">잇단 근로자 사망<mark>사고</mark>… 고용부·경찰, 현대제철 등 4곳 압수수색</a>,\n",
       " <a class=\"news_tit\" href=\"http://www.enewstoday.co.kr/news/articleView.html?idxno=1553171\" onclick=\"return goOtherCR(this, 'a=nws*b.tit&amp;r=9&amp;i=880003FD_000000000000000000709410&amp;g=5038.0000709410&amp;u='+urlencode(this.href));\" target=\"_blank\" title=\"현대자동차 중고차사업 방향 최초 공개\">현대<mark>자동차</mark> 중고차사업 방향 최초 공개</a>,\n",
       " <a class=\"news_tit\" href=\"https://www.ytn.co.kr/_ln/0103_202203071323281282\" onclick=\"return goOtherCR(this, 'a=nws*a.tit&amp;r=13&amp;i=880000AF_000000000000000001710634&amp;g=052.0001710634&amp;u='+urlencode(this.href));\" target=\"_blank\" title=\"급발진 사고 차량 결함 증명 하려면?\">급발진 <mark>사고</mark> 차량 결함 증명 하려면?</a>,\n",
       " <a class=\"news_tit\" href=\"https://www.nocutnews.co.kr/news/5718819\" onclick=\"return goOtherCR(this, 'a=nws*e.tit&amp;r=15&amp;i=88000112_000000000000000003617407&amp;g=079.0003617407&amp;u='+urlencode(this.href));\" target=\"_blank\" title=\"현대차, '자동차용품+생활용품' 통합 쇼핑몰 '현대Shop' 오픈\">현대차, '<mark>자동차</mark>용품+생활용품' 통합 쇼핑몰 '현대Shop' 오픈</a>,\n",
       " <a class=\"news_tit\" href=\"http://www.inews24.com/view/1457779\" onclick=\"return goOtherCR(this, 'a=nws*h.tit&amp;r=16&amp;i=880000D6_000000000000000000657768&amp;g=031.0000657768&amp;u='+urlencode(this.href));\" target=\"_blank\" title=\"현대제철, 예산공장서 근로자 사망 사고 발생…나흘만에 또\">현대제철, 예산공장서 근로자 사망 <mark>사고</mark> 발생…나흘만에 또</a>,\n",
       " <a class=\"news_tit\" href=\"https://www.khan.co.kr/economy/finance/article/202203070826001\" onclick=\"return goOtherCR(this, 'a=nws*a.tit&amp;r=21&amp;i=8800006B_000000000000000003132673&amp;g=032.0003132673&amp;u='+urlencode(this.href));\" target=\"_blank\" title=\"캐롯손보 퍼마일자동차보험 출시 2년 만 50만건 돌파\">캐롯손보 퍼마일<mark>자동차</mark>보험 출시 2년 만 50만건 돌파</a>,\n",
       " <a class=\"news_tit\" href=\"https://www.paxnetnews.com/articles/84384\" onclick=\"return goOtherCR(this, 'a=nws*b.tit&amp;r=26&amp;i=881844e5_000000000000000000038841&amp;g=5630.0000038841&amp;u='+urlencode(this.href));\" target=\"_blank\" title=\"현대제철 예산공장 근로자 사망사고…책임은 누가?\">현대제철 예산공장 근로자 사망<mark>사고</mark>…책임은 누가?</a>,\n",
       " <a class=\"news_tit\" href=\"http://sjbnews.com/news/news.php?number=738494\" onclick=\"return goOtherCR(this, 'a=nws*f.tit&amp;r=28&amp;i=8811BF06_000000000000000000217436&amp;g=5153.0000217436&amp;u='+urlencode(this.href));\" target=\"_blank\" title=\"교통사고 후유증, 입원치료로 회복 앞당겨야\">교통<mark>사고</mark> 후유증, 입원치료로 회복 앞당겨야</a>,\n",
       " <a class=\"news_tit\" href=\"https://www.gukjenews.com/news/articleView.html?idxno=2421301\" onclick=\"return goOtherCR(this, 'a=nws*f.tit&amp;r=29&amp;i=8813C2D5_000000000000000001519236&amp;g=5291.0001519236&amp;u='+urlencode(this.href));\" target=\"_blank\" title=\"서귀포시, 위미항구로 회전교차로 설치…교통사고 예방 효과 탁월\">서귀포시, 위미항구로 회전교차로 설치…교통<mark>사고</mark> 예방 효과 탁월</a>]"
      ]
     },
     "execution_count": 6,
     "metadata": {},
     "output_type": "execute_result"
    }
   ],
   "source": [
    "soup.find_all('a', attrs={'class':'news_tit'})"
   ]
  },
  {
   "cell_type": "code",
   "execution_count": 7,
   "id": "4c6fcdb9",
   "metadata": {},
   "outputs": [
    {
     "data": {
      "text/plain": [
       "['사흘만에 또…현대제철, 20대 근로자 사망 사고',\n",
       " '잇단 근로자 사망사고… 고용부·경찰, 현대제철 등 4곳 압수수색',\n",
       " '현대자동차 중고차사업 방향 최초 공개',\n",
       " '급발진 사고 차량 결함 증명 하려면?',\n",
       " \"현대차, '자동차용품+생활용품' 통합 쇼핑몰 '현대Shop' 오픈\",\n",
       " '현대제철, 예산공장서 근로자 사망 사고 발생…나흘만에 또',\n",
       " '캐롯손보 퍼마일자동차보험 출시 2년 만 50만건 돌파',\n",
       " '현대제철 예산공장 근로자 사망사고…책임은 누가?',\n",
       " '교통사고 후유증, 입원치료로 회복 앞당겨야',\n",
       " '서귀포시, 위미항구로 회전교차로 설치…교통사고 예방 효과 탁월']"
      ]
     },
     "execution_count": 7,
     "metadata": {},
     "output_type": "execute_result"
    }
   ],
   "source": [
    "[title['title'] for title in soup.find_all('a', attrs={'class':'news_tit'}) ]"
   ]
  },
  {
   "cell_type": "code",
   "execution_count": 8,
   "id": "5ceaf084",
   "metadata": {},
   "outputs": [
    {
     "data": {
      "text/plain": [
       "[<span class=\"info\">11시간 전</span>,\n",
       " <span class=\"info\">4시간 전</span>,\n",
       " <span class=\"info\">6시간 전</span>,\n",
       " <span class=\"info\">2시간 전</span>,\n",
       " <span class=\"info\">6시간 전</span>,\n",
       " <span class=\"info\">18시간 전</span>,\n",
       " <span class=\"info\">7시간 전</span>,\n",
       " <span class=\"info\">7시간 전</span>,\n",
       " <span class=\"info\">43분 전</span>,\n",
       " <span class=\"info\">4시간 전</span>]"
      ]
     },
     "execution_count": 8,
     "metadata": {},
     "output_type": "execute_result"
    }
   ],
   "source": [
    "soup.find_all('span', attrs={'class':'info'})"
   ]
  },
  {
   "cell_type": "code",
   "execution_count": 14,
   "id": "cecebebe",
   "metadata": {},
   "outputs": [
    {
     "data": {
      "text/plain": [
       "[]"
      ]
     },
     "execution_count": 14,
     "metadata": {},
     "output_type": "execute_result"
    }
   ],
   "source": [
    "dates = [ date.get_text() for date in soup.find_all('span', attrs={'class':'info'})]\n",
    "\n",
    "import re\n",
    "\n",
    "date_list = []\n",
    "for date in dates:\n",
    "    if re.search(r'\\d+.\\d+.\\d+.', date) != None:\n",
    "        date_list.append(date)\n",
    "\n",
    "date_list"
   ]
  },
  {
   "cell_type": "code",
   "execution_count": 15,
   "id": "21b3769d",
   "metadata": {},
   "outputs": [],
   "source": [
    "start = 1\n",
    "result_df = pd.DataFrame()\n",
    "\n",
    "while True:\n",
    "    try:\n",
    "        url = 'https://search.naver.com/search.naver?where=news&query=%EC%9E%90%EB%8F%99%EC%B0%A8%20%EC%82%AC%EA%B3%A0&sm=tab_opt&sort=0&photo=0&field=0&pd=3&ds=2021.03.01&de=2022.03.07&docid=&related=0&mynews=0&office_type=0&office_section_code=0&news_office_checked=&nso=so%3Ar%2Cp%3Afrom20210301to20220307&is_sug_officeid=0'.format(start)\n",
    "        headers = {'user-agent':'Mozilla/5.0 (Windows NT 10.0; Win64; x64) AppleWebKit/537.36 (KHTML, like Gecko) Chrome/88.0.4324.150 Safari/537.36',\n",
    "          'accept':'text/html,application/xhtml+xml,application/xml;q=0.9,image/avif,image/webp,image/apng,*/*;q=0.8,application/signed-exchange;v=b3;q=0.9'}\n",
    "        response = requests.get(url, headers=headers)\n",
    "        soup = BeautifulSoup(response.text, 'lxml')\n",
    "        news_title = [title['title'] for title in soup.find_all('a', attrs={'class':'news_tit'})] # 기사 제목\n",
    "        news_url = [ url['href'] for url in soup.find_all('a', attrs={'class':'news_tit'}) ] # 기사 url\n",
    "        \n",
    "        dates = [ date.get_text() for date in soup.find_all('span', attrs={'class':'info'})] # 기사 작성일\n",
    "        news_date = []\n",
    "        for date in dates:\n",
    "            if re.search(r'\\d+.\\d+.\\d+.', date) != None: # 기사 작성일 정제\n",
    "                news_date.append(date)\n",
    "        \n",
    "        df = pd.DataFrame({'기사작성일':news_date,'기사제목':news_title,'기사주소':news_url})\n",
    "        result_df = pd.concat([result_df, df], ignore_index=True)\n",
    "        start += 10\n",
    "    \n",
    "    except: # 오류발생시 몇 페이지까지 크롤링했는지 page를 확인하기 \n",
    "        print(start)\n",
    "        break"
   ]
  },
  {
   "cell_type": "code",
   "execution_count": 35,
   "id": "6132dc50",
   "metadata": {},
   "outputs": [
    {
     "name": "stdout",
     "output_type": "stream",
     "text": [
      "서울교통 기사\n",
      "서울교통공사, 추억의 지하철 사진·창립 5주년 축하 그림 공모\n",
      "7시간 전\n",
      "http://www.newspim.com/news/view/20220307000240\n",
      "[B tv 서울뉴스] 서울교통공사, 지하철 승객 부주의 사고는 '치료비 보상 불가...\n",
      "10시간 전\n",
      "http://ch1.skbroadband.com/content/view?parent_no=24&content_no=57&p_no=138105\n",
      "서울교통공사 노·사 공동으로 지하철 현장 안전점검\n",
      "3시간 전\n",
      "https://www.nocutnews.co.kr/news/5719307\n"
     ]
    }
   ],
   "source": [
    "import requests\n",
    "from bs4 import BeautifulSoup\n",
    "firms = [\"서울교통\"]\n",
    "for firm in firms:\n",
    "    url = f\"https://search.naver.com/search.naver?query={firm}&where=news&ie=utf8&sm=nws_hty\"\n",
    "    res = requests.get(url)\n",
    "    res.raise_for_status()\n",
    "    soup = BeautifulSoup(res.text, \"lxml\")\n",
    "    soup_tit = soup.find_all(\"a\", attrs={\"class\": \"news_tit\"})\n",
    "    soup_info = soup.find_all(\"span\", attrs={\"class\": \"info\"})\n",
    "#     dates = [ date.get_text() for date in soup.find_all('span', attrs={'class':'info'})] # 기사 작성일\n",
    "    print(f\"{firm} 기사\")\n",
    "    for tit, info in zip(soup_tit, soup_info):\n",
    "        if firm in tit.get_text():\n",
    "#             print(f\"{tit.get_text()} {info.get_text()} {tit['href']}\")\n",
    "            print(tit.get_text())\n",
    "            print(info.get_text())\n",
    "            print(tit['href'])\n",
    "\n"
   ]
  },
  {
   "cell_type": "code",
   "execution_count": 51,
   "id": "791b27ee",
   "metadata": {},
   "outputs": [
    {
     "name": "stdout",
     "output_type": "stream",
     "text": [
      "경찰 범죄분석 시스템에 티맵 교통정보 탑재\n",
      "4시간 전\n",
      "http://yna.kr/AKR20220304140600004?did=1195m\n",
      "https://search.pstatic.net/common/?src=https%3A%2F%2Fimgnews.pstatic.net%2Fimage%2Forigin%2F001%2F2022%2F03%2F07%2F13035840.jpg&type=ff264_180&expire=2&refresh=true\n",
      "익산시, 교통·물류 인프라 구축 스마트도시 도약\n",
      "9시간 전\n",
      "http://www.newsis.com/view/?id=NISX20220307_0001784146&cID=10808&pID=10800\n",
      "https://search.pstatic.net/common/?src=https%3A%2F%2Fimgnews.pstatic.net%2Fimage%2Forigin%2F003%2F2022%2F03%2F07%2F11046915.jpg&type=ff264_180&expire=2&refresh=true\n",
      "도로교통공단, 공공데이터 제공 운영 우수기관 선정\n",
      "3시간 전\n",
      "http://autotimes.hankyung.com/apps/news.sub_view?popup=0&nid=03&c1=03&c2=03&c3=00&nkey=202203071639381\n",
      "https://search.pstatic.net/common/?src=https%3A%2F%2Fimgnews.pstatic.net%2Fimage%2Forigin%2F5029%2F2022%2F03%2F07%2F84775.jpg&type=ff264_180&expire=2&refresh=true\n",
      "'시내버스비 왕복 2400원' 보은군 농촌 통학생 교통비 지원\n",
      "9시간 전\n",
      "https://www.news1.kr/articles/?4607484\n",
      "https://search.pstatic.net/common/?src=https%3A%2F%2Fimgnews.pstatic.net%2Fimage%2Forigin%2F421%2F2022%2F03%2F07%2F5952773.jpg&type=ff264_180&expire=2&refresh=true\n",
      "조종현, 대전교통공사 신임 기술이사 취임\n",
      "9시간 전\n",
      "http://daily.hankooki.com/news/articleView.html?idxno=797052\n",
      "https://search.pstatic.net/common/?src=https%3A%2F%2Fimgnews.pstatic.net%2Fimage%2Forigin%2F5358%2F2022%2F03%2F07%2F393845.jpg&type=ofullfill264_180_gray&expire=2&refresh=true\n",
      "철도로 단절된 세종 조치원 교통지도 바뀐다\n",
      "10시간 전\n",
      "http://www.daejonilbo.com/news/newsitem.asp?pk_no=1509088\n",
      "https://search.pstatic.net/common/?src=https%3A%2F%2Fimgnews.pstatic.net%2Fimage%2Forigin%2F656%2F2022%2F03%2F07%2F4630.jpg&type=ff264_180&expire=2&refresh=true\n",
      "한국해양교통안전공단, 빅데이터 기반 어선검사 실시\n",
      "4시간 전\n",
      "https://ilyo.co.kr/?ac=article_view&entry_id=424035\n",
      "https://search.pstatic.net/common/?src=https%3A%2F%2Fimgnews.pstatic.net%2Fimage%2Forigin%2F5307%2F2022%2F03%2F07%2F333410.jpg&type=ff264_180&expire=2&refresh=true\n",
      "태영건설, 조경의 날 기념식에서 국토교통부 장관상과 조경인상 수상\n",
      "9시간 전\n",
      "https://www.businesspost.co.kr/BP?command=article_view&num=273668\n",
      "https://search.pstatic.net/common/?src=https%3A%2F%2Fimgnews.pstatic.net%2Fimage%2Forigin%2F5374%2F2022%2F03%2F07%2F255627.jpg&type=ff264_180&expire=2&refresh=true\n",
      "롯데카드, '로카365 카드' 출시…대중교통·통신비 등 할인\n",
      "10시간 전\n",
      "http://news.mt.co.kr/mtview.php?no=2022030710082142573\n",
      "https://search.pstatic.net/common/?src=https%3A%2F%2Fimgnews.pstatic.net%2Fimage%2Forigin%2F008%2F2022%2F03%2F07%2F4716843.jpg&type=ff264_180&expire=2&refresh=true\n",
      "터널 교통사고, 봄철에 가장 많아\n",
      "3시간 전\n",
      "https://dgmbc.com/article/jm3GXXaxDdXrCo\n",
      "https://search.pstatic.net/common/?src=https%3A%2F%2Fimgnews.pstatic.net%2Fimage%2Forigin%2F657%2F2022%2F03%2F07%2F1195.jpg&type=ff264_180&expire=2&refresh=true\n"
     ]
    }
   ],
   "source": [
    "import requests\n",
    "from bs4 import BeautifulSoup\n",
    "\n",
    "firms = [\"교통\"]\n",
    "for firm in firms:\n",
    "    url = f\"https://search.naver.com/search.naver?where=news&sm=tab_jum&query={firms}\"\n",
    "    res = requests.get(url)\n",
    "    res.raise_for_status()\n",
    "    soup = BeautifulSoup(res.text, \"lxml\")\n",
    "    soup_tit = soup.find_all(\"a\", attrs={\"class\": \"news_tit\"})\n",
    "    soup_info = soup.find_all(\"span\", attrs={\"class\": \"info\"})\n",
    "    soup_img =  soup.find_all(\"img\",attrs = {\"class\":\"thumb api_get\"})\n",
    "#     dates = [ date.get_text() for date in soup.find_all('span', attrs={'class':'info'})] # 기사 작성일\n",
    "    indx = 1\n",
    "    for tit, time,img in zip(soup_tit, soup_info,soup_img):\n",
    "        if firm in tit.get_text():\n",
    "#             print(f\"{tit.get_text()} {info.get_text()} {tit['href']}\")\n",
    "            print(tit.get_text())\n",
    "            print(time.get_text())\n",
    "            print(tit['href'])\n",
    "            print(img['src'])\n",
    "            indx +=1\n",
    "            urllib.request.urlretrieve(img['src'], \"이미지{}.jpg\".format(indx))"
   ]
  },
  {
   "cell_type": "code",
   "execution_count": 39,
   "id": "04ab74b1",
   "metadata": {},
   "outputs": [
    {
     "name": "stdout",
     "output_type": "stream",
     "text": [
      "서울교통 기사\n",
      "서울교통공사, 추억의 지하철 사진·창립 5주년 축하 그림 공모\n",
      "8시간 전\n",
      "http://www.newspim.com/news/view/20220307000240\n",
      "[B tv 서울뉴스] 서울교통공사, 지하철 승객 부주의 사고는 '치료비 보상 불가...\n",
      "8시간 전\n",
      "http://ch1.skbroadband.com/content/view?parent_no=24&content_no=57&p_no=138105\n",
      "서울교통공사 노·사 공동으로 지하철 현장 안전점검\n",
      "1일 전\n",
      "https://www.nocutnews.co.kr/news/5719307\n"
     ]
    }
   ],
   "source": [
    "import requests\n",
    "from bs4 import BeautifulSoup\n",
    "\n",
    "firms = [\"서울교통\"]\n",
    "for firm in firms:\n",
    "    url = f\"https://search.naver.com/search.naver?where=news&sm=tab_jum&query={firms}\"\n",
    "    res = requests.get(url)\n",
    "    res.raise_for_status()\n",
    "    soup = BeautifulSoup(res.text, \"lxml\")\n",
    "    soup_tit = soup.find_all(\"a\", attrs={\"class\": \"news_tit\"})\n",
    "    soup_info = soup.find_all(\"span\", attrs={\"class\": \"info\"})\n",
    "#     dates = [ date.get_text() for date in soup.find_all('span', attrs={'class':'info'})] # 기사 작성일\n",
    "    print(f\"{firm} 기사\")\n",
    "    for tit, time in zip(soup_tit, soup_info):\n",
    "        if firm in tit.get_text():\n",
    "#             print(f\"{tit.get_text()} {info.get_text()} {tit['href']}\")\n",
    "            print(tit.get_text())\n",
    "            print(time.get_text())\n",
    "            print(tit['href'])\n",
    "            urllib.request.urlretrieve(product_img_url, \"이미지.jpg\")"
   ]
  },
  {
   "cell_type": "code",
   "execution_count": 45,
   "id": "c69ed622",
   "metadata": {},
   "outputs": [
    {
     "data": {
      "text/plain": [
       "('이미지.jpg', <http.client.HTTPMessage at 0x1d997912e20>)"
      ]
     },
     "execution_count": 45,
     "metadata": {},
     "output_type": "execute_result"
    }
   ],
   "source": [
    "import requests\n",
    "from bs4 import BeautifulSoup\n",
    "import urllib.request\n",
    "\n",
    "URL = 'https://www.coupang.com/vp/products/5647481827?itemId=9231892317&vendorItemId=76517595808&sourceType=CAMPAIGN&campaignId=82&categoryId=0&isAddedCart='\n",
    "\n",
    "headers = {\"User-Agent\":\"Mozilla/5.0 (Windows NT 10.0; Win64; x64) AppleWebKit/537.36 (KHTML, like Gecko) Chrome/90.0.4430.93 Safari/537.36\"}\n",
    "res = requests.get(URL, headers=headers)\n",
    "res.raise_for_status()\n",
    "soup = BeautifulSoup(res.text, \"lxml\") \n",
    "\n",
    "product_img_url = \"http:\"+ soup.select_one('#repImageContainer > img')['src']\n",
    "\n",
    "urllib.request.urlretrieve(product_img_url, \"이미지.jpg\")"
   ]
  },
  {
   "cell_type": "code",
   "execution_count": null,
   "id": "3dc198fe",
   "metadata": {},
   "outputs": [],
   "source": []
  }
 ],
 "metadata": {
  "kernelspec": {
   "display_name": "Python 3 (ipykernel)",
   "language": "python",
   "name": "python3"
  },
  "language_info": {
   "codemirror_mode": {
    "name": "ipython",
    "version": 3
   },
   "file_extension": ".py",
   "mimetype": "text/x-python",
   "name": "python",
   "nbconvert_exporter": "python",
   "pygments_lexer": "ipython3",
   "version": "3.9.7"
  }
 },
 "nbformat": 4,
 "nbformat_minor": 5
}

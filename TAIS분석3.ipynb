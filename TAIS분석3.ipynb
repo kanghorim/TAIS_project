{
 "cells": [
  {
   "cell_type": "code",
   "execution_count": 2,
   "id": "dc6c9462",
   "metadata": {},
   "outputs": [],
   "source": [
    "import pandas as pd\n",
    "import matplotlib.pyplot as plt\n",
    "from matplotlib import font_manager, rc"
   ]
  },
  {
   "cell_type": "code",
   "execution_count": 3,
   "id": "b015216e",
   "metadata": {},
   "outputs": [],
   "source": [
    "df = pd.read_excel('data/기본데이터.xlsx')"
   ]
  },
  {
   "cell_type": "code",
   "execution_count": 57,
   "id": "551a4d47",
   "metadata": {},
   "outputs": [
    {
     "data": {
      "text/html": [
       "<div>\n",
       "<style scoped>\n",
       "    .dataframe tbody tr th:only-of-type {\n",
       "        vertical-align: middle;\n",
       "    }\n",
       "\n",
       "    .dataframe tbody tr th {\n",
       "        vertical-align: top;\n",
       "    }\n",
       "\n",
       "    .dataframe thead th {\n",
       "        text-align: right;\n",
       "    }\n",
       "</style>\n",
       "<table border=\"1\" class=\"dataframe\">\n",
       "  <thead>\n",
       "    <tr style=\"text-align: right;\">\n",
       "      <th></th>\n",
       "      <th>발생년도</th>\n",
       "      <th>발생월</th>\n",
       "      <th>발생시간</th>\n",
       "      <th>사망자수</th>\n",
       "      <th>중상자수</th>\n",
       "      <th>경상자수</th>\n",
       "      <th>부상신고자수</th>\n",
       "      <th>발생지_시도</th>\n",
       "      <th>발생지_시군구</th>\n",
       "      <th>법정동명</th>\n",
       "      <th>도로형태_대분류</th>\n",
       "      <th>노면상태</th>\n",
       "      <th>기상상태</th>\n",
       "      <th>가해자성별</th>\n",
       "      <th>가해자연령</th>\n",
       "      <th>피해자성별</th>\n",
       "      <th>피해자연령</th>\n",
       "    </tr>\n",
       "  </thead>\n",
       "  <tbody>\n",
       "    <tr>\n",
       "      <th>0</th>\n",
       "      <td>2019</td>\n",
       "      <td>1</td>\n",
       "      <td>00시</td>\n",
       "      <td>0</td>\n",
       "      <td>0</td>\n",
       "      <td>1</td>\n",
       "      <td>0</td>\n",
       "      <td>서울</td>\n",
       "      <td>강서구</td>\n",
       "      <td>방화동</td>\n",
       "      <td>교차로</td>\n",
       "      <td>건조</td>\n",
       "      <td>맑음</td>\n",
       "      <td>남</td>\n",
       "      <td>26세</td>\n",
       "      <td>남</td>\n",
       "      <td>40세</td>\n",
       "    </tr>\n",
       "    <tr>\n",
       "      <th>1</th>\n",
       "      <td>2019</td>\n",
       "      <td>1</td>\n",
       "      <td>00시</td>\n",
       "      <td>0</td>\n",
       "      <td>0</td>\n",
       "      <td>1</td>\n",
       "      <td>0</td>\n",
       "      <td>서울</td>\n",
       "      <td>구로구</td>\n",
       "      <td>고척동</td>\n",
       "      <td>단일로</td>\n",
       "      <td>건조</td>\n",
       "      <td>맑음</td>\n",
       "      <td>남</td>\n",
       "      <td>23세</td>\n",
       "      <td>남</td>\n",
       "      <td>71세</td>\n",
       "    </tr>\n",
       "    <tr>\n",
       "      <th>2</th>\n",
       "      <td>2019</td>\n",
       "      <td>1</td>\n",
       "      <td>00시</td>\n",
       "      <td>0</td>\n",
       "      <td>0</td>\n",
       "      <td>1</td>\n",
       "      <td>0</td>\n",
       "      <td>서울</td>\n",
       "      <td>서초구</td>\n",
       "      <td>서초동</td>\n",
       "      <td>기타</td>\n",
       "      <td>건조</td>\n",
       "      <td>맑음</td>\n",
       "      <td>남</td>\n",
       "      <td>33세</td>\n",
       "      <td>남</td>\n",
       "      <td>51세</td>\n",
       "    </tr>\n",
       "    <tr>\n",
       "      <th>3</th>\n",
       "      <td>2019</td>\n",
       "      <td>1</td>\n",
       "      <td>01시</td>\n",
       "      <td>0</td>\n",
       "      <td>0</td>\n",
       "      <td>1</td>\n",
       "      <td>0</td>\n",
       "      <td>서울</td>\n",
       "      <td>중구</td>\n",
       "      <td>회현동2가</td>\n",
       "      <td>단일로</td>\n",
       "      <td>건조</td>\n",
       "      <td>맑음</td>\n",
       "      <td>남</td>\n",
       "      <td>58세</td>\n",
       "      <td>남</td>\n",
       "      <td>62세</td>\n",
       "    </tr>\n",
       "    <tr>\n",
       "      <th>4</th>\n",
       "      <td>2019</td>\n",
       "      <td>1</td>\n",
       "      <td>01시</td>\n",
       "      <td>0</td>\n",
       "      <td>0</td>\n",
       "      <td>1</td>\n",
       "      <td>0</td>\n",
       "      <td>서울</td>\n",
       "      <td>성동구</td>\n",
       "      <td>행당동</td>\n",
       "      <td>교차로</td>\n",
       "      <td>건조</td>\n",
       "      <td>맑음</td>\n",
       "      <td>남</td>\n",
       "      <td>30세</td>\n",
       "      <td>남</td>\n",
       "      <td>32세</td>\n",
       "    </tr>\n",
       "    <tr>\n",
       "      <th>...</th>\n",
       "      <td>...</td>\n",
       "      <td>...</td>\n",
       "      <td>...</td>\n",
       "      <td>...</td>\n",
       "      <td>...</td>\n",
       "      <td>...</td>\n",
       "      <td>...</td>\n",
       "      <td>...</td>\n",
       "      <td>...</td>\n",
       "      <td>...</td>\n",
       "      <td>...</td>\n",
       "      <td>...</td>\n",
       "      <td>...</td>\n",
       "      <td>...</td>\n",
       "      <td>...</td>\n",
       "      <td>...</td>\n",
       "      <td>...</td>\n",
       "    </tr>\n",
       "    <tr>\n",
       "      <th>38131</th>\n",
       "      <td>2019</td>\n",
       "      <td>12</td>\n",
       "      <td>22시</td>\n",
       "      <td>0</td>\n",
       "      <td>0</td>\n",
       "      <td>0</td>\n",
       "      <td>1</td>\n",
       "      <td>서울</td>\n",
       "      <td>중랑구</td>\n",
       "      <td>면목동</td>\n",
       "      <td>단일로</td>\n",
       "      <td>건조</td>\n",
       "      <td>맑음</td>\n",
       "      <td>남</td>\n",
       "      <td>28세</td>\n",
       "      <td>여</td>\n",
       "      <td>33세</td>\n",
       "    </tr>\n",
       "    <tr>\n",
       "      <th>38132</th>\n",
       "      <td>2019</td>\n",
       "      <td>12</td>\n",
       "      <td>22시</td>\n",
       "      <td>0</td>\n",
       "      <td>0</td>\n",
       "      <td>1</td>\n",
       "      <td>0</td>\n",
       "      <td>서울</td>\n",
       "      <td>강남구</td>\n",
       "      <td>삼성동</td>\n",
       "      <td>단일로</td>\n",
       "      <td>건조</td>\n",
       "      <td>맑음</td>\n",
       "      <td>여</td>\n",
       "      <td>41세</td>\n",
       "      <td>여</td>\n",
       "      <td>61세</td>\n",
       "    </tr>\n",
       "    <tr>\n",
       "      <th>38133</th>\n",
       "      <td>2019</td>\n",
       "      <td>12</td>\n",
       "      <td>22시</td>\n",
       "      <td>0</td>\n",
       "      <td>0</td>\n",
       "      <td>1</td>\n",
       "      <td>0</td>\n",
       "      <td>서울</td>\n",
       "      <td>송파구</td>\n",
       "      <td>송파동</td>\n",
       "      <td>교차로</td>\n",
       "      <td>건조</td>\n",
       "      <td>맑음</td>\n",
       "      <td>남</td>\n",
       "      <td>36세</td>\n",
       "      <td>여</td>\n",
       "      <td>18세</td>\n",
       "    </tr>\n",
       "    <tr>\n",
       "      <th>38134</th>\n",
       "      <td>2019</td>\n",
       "      <td>12</td>\n",
       "      <td>23시</td>\n",
       "      <td>0</td>\n",
       "      <td>0</td>\n",
       "      <td>0</td>\n",
       "      <td>2</td>\n",
       "      <td>서울</td>\n",
       "      <td>강남구</td>\n",
       "      <td>역삼동</td>\n",
       "      <td>단일로</td>\n",
       "      <td>건조</td>\n",
       "      <td>맑음</td>\n",
       "      <td>남</td>\n",
       "      <td>59세</td>\n",
       "      <td>없음</td>\n",
       "      <td>없음</td>\n",
       "    </tr>\n",
       "    <tr>\n",
       "      <th>38135</th>\n",
       "      <td>2019</td>\n",
       "      <td>12</td>\n",
       "      <td>23시</td>\n",
       "      <td>0</td>\n",
       "      <td>0</td>\n",
       "      <td>1</td>\n",
       "      <td>0</td>\n",
       "      <td>서울</td>\n",
       "      <td>강남구</td>\n",
       "      <td>수서동</td>\n",
       "      <td>교차로</td>\n",
       "      <td>건조</td>\n",
       "      <td>맑음</td>\n",
       "      <td>남</td>\n",
       "      <td>50세</td>\n",
       "      <td>남</td>\n",
       "      <td>53세</td>\n",
       "    </tr>\n",
       "  </tbody>\n",
       "</table>\n",
       "<p>38136 rows × 17 columns</p>\n",
       "</div>"
      ],
      "text/plain": [
       "       발생년도  발생월 발생시간  사망자수  중상자수  경상자수  부상신고자수 발생지_시도 발생지_시군구   법정동명  \\\n",
       "0      2019    1  00시     0     0     1       0     서울     강서구    방화동   \n",
       "1      2019    1  00시     0     0     1       0     서울     구로구    고척동   \n",
       "2      2019    1  00시     0     0     1       0     서울     서초구    서초동   \n",
       "3      2019    1  01시     0     0     1       0     서울      중구  회현동2가   \n",
       "4      2019    1  01시     0     0     1       0     서울     성동구    행당동   \n",
       "...     ...  ...  ...   ...   ...   ...     ...    ...     ...    ...   \n",
       "38131  2019   12  22시     0     0     0       1     서울     중랑구    면목동   \n",
       "38132  2019   12  22시     0     0     1       0     서울     강남구    삼성동   \n",
       "38133  2019   12  22시     0     0     1       0     서울     송파구    송파동   \n",
       "38134  2019   12  23시     0     0     0       2     서울     강남구    역삼동   \n",
       "38135  2019   12  23시     0     0     1       0     서울     강남구    수서동   \n",
       "\n",
       "      도로형태_대분류 노면상태 기상상태 가해자성별 가해자연령 피해자성별 피해자연령  \n",
       "0          교차로   건조   맑음     남   26세     남   40세  \n",
       "1          단일로   건조   맑음     남   23세     남   71세  \n",
       "2           기타   건조   맑음     남   33세     남   51세  \n",
       "3          단일로   건조   맑음     남   58세     남   62세  \n",
       "4          교차로   건조   맑음     남   30세     남   32세  \n",
       "...        ...  ...  ...   ...   ...   ...   ...  \n",
       "38131      단일로   건조   맑음     남   28세     여   33세  \n",
       "38132      단일로   건조   맑음     여   41세     여   61세  \n",
       "38133      교차로   건조   맑음     남   36세     여   18세  \n",
       "38134      단일로   건조   맑음     남   59세    없음    없음  \n",
       "38135      교차로   건조   맑음     남   50세     남   53세  \n",
       "\n",
       "[38136 rows x 17 columns]"
      ]
     },
     "execution_count": 57,
     "metadata": {},
     "output_type": "execute_result"
    }
   ],
   "source": [
    "df = df.drop('Unnamed: 0', axis=1)\n",
    "df"
   ]
  },
  {
   "cell_type": "markdown",
   "id": "6e7f9544",
   "metadata": {},
   "source": [
    "# 월별 데이터 시각화"
   ]
  },
  {
   "cell_type": "code",
   "execution_count": 58,
   "id": "31ac8de1",
   "metadata": {},
   "outputs": [
    {
     "data": {
      "text/plain": [
       "11    3558\n",
       "10    3539\n",
       "5     3395\n",
       "8     3364\n",
       "7     3217\n",
       "6     3210\n",
       "9     3204\n",
       "4     3200\n",
       "12    3130\n",
       "3     3011\n",
       "1     2896\n",
       "2     2412\n",
       "Name: 발생월, dtype: int64"
      ]
     },
     "execution_count": 58,
     "metadata": {},
     "output_type": "execute_result"
    }
   ],
   "source": [
    "df_mon = df['발생월'].astype(int).value_counts()\n",
    "df_mon"
   ]
  },
  {
   "cell_type": "code",
   "execution_count": 60,
   "id": "76bdc702",
   "metadata": {},
   "outputs": [
    {
     "data": {
      "image/png": "[encoded data removed]",
      "text/plain": [
       "<Figure size 1440x360 with 1 Axes>"
      ]
     },
     "metadata": {
      "needs_background": "light"
     },
     "output_type": "display_data"
    }
   ],
   "source": [
    "plt.figure(figsize=(20,5))\n",
    "plt.rc('font', family='Malgun Gothic')\n",
    "plt.title('월 별 시각화')\n",
    "plt.xlabel('Month')\n",
    "plt.ylabel('Num')\n",
    "plt.grid(True)\n",
    "df_mon.plot.bar()\n",
    "plt.show()"
   ]
  },
  {
   "cell_type": "markdown",
   "id": "a42097a6",
   "metadata": {},
   "source": [
    "# 발생지 별 사고율 그래프"
   ]
  },
  {
   "cell_type": "code",
   "execution_count": 22,
   "id": "057b6a8c",
   "metadata": {},
   "outputs": [],
   "source": [
    "df_priv = df['발생지_시군구'].value_counts()"
   ]
  },
  {
   "cell_type": "code",
   "execution_count": 26,
   "id": "c8d1ca6a",
   "metadata": {},
   "outputs": [
    {
     "data": {
      "image/png": "[encoded data removed]",
      "text/plain": [
       "<Figure size 1440x360 with 1 Axes>"
      ]
     },
     "metadata": {
      "needs_background": "light"
     },
     "output_type": "display_data"
    }
   ],
   "source": [
    "plt.figure(figsize=(20,5))\n",
    "plt.rc('font', family='Malgun Gothic')\n",
    "plt.title('구 별 시각화')\n",
    "plt.xlabel('지역')\n",
    "plt.ylabel('Num')\n",
    "plt.grid(True)\n",
    "df_gb.plot.bar()\n",
    "plt.show()\n"
   ]
  },
  {
   "cell_type": "code",
   "execution_count": 49,
   "id": "3a9a6ff0",
   "metadata": {},
   "outputs": [],
   "source": [
    "df_gn_vc = df[df['발생지_시군구']=='강남구']['법정동명'].value_counts()"
   ]
  },
  {
   "cell_type": "code",
   "execution_count": 50,
   "id": "bbb989e3",
   "metadata": {},
   "outputs": [
    {
     "data": {
      "image/png": "[encoded data removed]",
      "text/plain": [
       "<Figure size 1440x360 with 1 Axes>"
      ]
     },
     "metadata": {
      "needs_background": "light"
     },
     "output_type": "display_data"
    }
   ],
   "source": [
    "plt.figure(figsize=(20,5))\n",
    "plt.rc('font', family='Malgun Gothic')\n",
    "plt.title('구 별 시각화')\n",
    "plt.xlabel('지역')\n",
    "plt.ylabel('Num')\n",
    "plt.grid(True)\n",
    "df_gn_vc.plot.bar()\n",
    "plt.show()"
   ]
  },
  {
   "cell_type": "markdown",
   "id": "ad883a25",
   "metadata": {},
   "source": [
    "# 성별 데이터 시각화"
   ]
  },
  {
   "cell_type": "code",
   "execution_count": 62,
   "id": "54071ec7",
   "metadata": {},
   "outputs": [
    {
     "data": {
      "text/plain": [
       "남    31174\n",
       "여     6962\n",
       "Name: 가해자성별, dtype: int64"
      ]
     },
     "execution_count": 62,
     "metadata": {},
     "output_type": "execute_result"
    }
   ],
   "source": [
    "df_attgen = df['가해자성별'].value_counts()\n",
    "df_attgen"
   ]
  },
  {
   "cell_type": "code",
   "execution_count": 63,
   "id": "3daa0a1a",
   "metadata": {},
   "outputs": [
    {
     "data": {
      "text/plain": [
       "남     27046\n",
       "여      9968\n",
       "없음     1122\n",
       "Name: 피해자성별, dtype: int64"
      ]
     },
     "execution_count": 63,
     "metadata": {},
     "output_type": "execute_result"
    }
   ],
   "source": [
    "df_vicgen = df['피해자성별'].value_counts()\n",
    "df_vicgen"
   ]
  },
  {
   "cell_type": "code",
   "execution_count": 64,
   "id": "720849c2",
   "metadata": {},
   "outputs": [
    {
     "data": {
      "text/plain": [
       "58세    1058\n",
       "57세    1016\n",
       "59세     999\n",
       "60세     976\n",
       "56세     971\n",
       "       ... \n",
       "6세        2\n",
       "93세       2\n",
       "95세       1\n",
       "5세        1\n",
       "91세       1\n",
       "Name: 가해자연령, Length: 89, dtype: int64"
      ]
     },
     "execution_count": 64,
     "metadata": {},
     "output_type": "execute_result"
    }
   ],
   "source": [
    "df['가해자연령'].value_counts()"
   ]
  },
  {
   "cell_type": "code",
   "execution_count": 65,
   "id": "4faa946b",
   "metadata": {},
   "outputs": [
    {
     "data": {
      "text/plain": [
       "없음     1122\n",
       "58세     840\n",
       "59세     827\n",
       "27세     802\n",
       "38세     795\n",
       "       ... \n",
       "91세       5\n",
       "92세       5\n",
       "93세       3\n",
       "94세       3\n",
       "1세        2\n",
       "Name: 피해자연령, Length: 96, dtype: int64"
      ]
     },
     "execution_count": 65,
     "metadata": {},
     "output_type": "execute_result"
    }
   ],
   "source": [
    "df['피해자연령'].value_counts()"
   ]
  },
  {
   "cell_type": "code",
   "execution_count": null,
   "id": "da9b6507",
   "metadata": {},
   "outputs": [],
   "source": []
  }
 ],
 "metadata": {
  "kernelspec": {
   "display_name": "Python 3 (ipykernel)",
   "language": "python",
   "name": "python3"
  },
  "language_info": {
   "codemirror_mode": {
    "name": "ipython",
    "version": 3
   },
   "file_extension": ".py",
   "mimetype": "text/x-python",
   "name": "python",
   "nbconvert_exporter": "python",
   "pygments_lexer": "ipython3",
   "version": "3.9.7"
  }
 },
 "nbformat": 4,
 "nbformat_minor": 5
}
